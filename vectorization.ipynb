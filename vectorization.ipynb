{
 "cells": [
  {
   "cell_type": "markdown",
   "metadata": {},
   "source": [
    "Neural Networks Deep Learning\n",
    "Python & Vectorization"
   ]
  },
  {
   "cell_type": "code",
   "execution_count": 2,
   "metadata": {},
   "outputs": [
    {
     "name": "stdout",
     "output_type": "stream",
     "text": [
      "[1 2 3 4]\n"
     ]
    }
   ],
   "source": [
    "import numpy as np\n",
    "a = np.array([1,2,3,4])\n",
    "print(a)"
   ]
  },
  {
   "cell_type": "code",
   "execution_count": 6,
   "metadata": {},
   "outputs": [
    {
     "name": "stdout",
     "output_type": "stream",
     "text": [
      "249873.844445\n",
      "Vectorized version 1.6031265258789062 ms\n",
      "249873.844445\n",
      "For loop 493.82495880126953 ms\n"
     ]
    }
   ],
   "source": [
    "import time\n",
    "\n",
    "#vectorized\n",
    "a= np.random.rand(1000000) #million dimension array\n",
    "b = np.random.rand(1000000)\n",
    "\n",
    "tic = time.time()\n",
    "c= np.dot(a,b)\n",
    "toc = time.time()\n",
    "print(c)\n",
    "print(\"Vectorized version \" + str(1000*(toc-tic))+ ' ms')\n",
    "\n",
    "#average of 1.5 ms\n",
    "\n",
    "#non-vectorized\n",
    "c=0\n",
    "tic = time.time()\n",
    "for i in range(1000000):\n",
    "    c+= a[i]*b[i]\n",
    "toc = time.time()\n",
    "print(c)\n",
    "print(\"For loop \"+ str(1000*(toc-tic))+ ' ms')\n",
    "\n",
    "#vectorize your code fro 300x faster!\n",
    "\n",
    "#scalable on a GPU - jupyter has CPU (SIMD parellization)"
   ]
  },
  {
   "cell_type": "code",
   "execution_count": 13,
   "metadata": {},
   "outputs": [
    {
     "name": "stdout",
     "output_type": "stream",
     "text": [
      "[ 1.92992378  1.93919724  2.01066409 ...,  2.6067835   1.15838077\n",
      "  1.41219033] [-0.41934016 -0.41207577 -0.35887012 ..., -0.04278529 -1.91716528\n",
      " -1.06379958] [ 0.65748051  0.66227409  0.69846506 ...,  0.95811708  0.14702314\n",
      "  0.34514192]\n"
     ]
    }
   ],
   "source": [
    "#neural network programming guideline\n",
    "\n",
    "#Avoid explicit for-loops\n",
    "\n",
    "#example - exponential on matrices\n",
    "import math\n",
    "n = 5\n",
    "y = a\n",
    "u = np.zeros((n,1))\n",
    "for i in range(n):\n",
    "    u[i] = math.exp(y[i])\n",
    "v = a    \n",
    "#v input vector    \n",
    "u = np.exp(v)\n",
    "s = np.log(v)\n",
    "t = np.maximum(v,0)\n",
    "print(u,s,t)\n"
   ]
  },
  {
   "cell_type": "code",
   "execution_count": 14,
   "metadata": {
    "collapsed": true
   },
   "outputs": [],
   "source": [
    "# vectorizing logistic regression\n",
    "\n",
    "# z(i) = w(t)*x(i) + b\n",
    "# broadcasting\n",
    "# Z = np.dot(w.T,X) + b \n",
    "\n",
    "#sigmoid function\n",
    "# a(i) = sigma*(z(i))\n",
    "# A = sigma(Z)"
   ]
  },
  {
   "cell_type": "code",
   "execution_count": 15,
   "metadata": {
    "collapsed": true
   },
   "outputs": [],
   "source": [
    "#vectorizing logistic regression gradient ouput\n",
    "\n",
    "#dz(i) = a(i) -y(i)\n",
    "#dZ = A - Y\n",
    "\n",
    "#dw, dz = 0,0\n",
    "#dw += x(i)*dz(i)\n",
    "#dw /= m\n",
    "#db += dz(i)\n",
    "#db /= m\n",
    "\n",
    "#db = 1/m*np.sum(dZ)\n",
    "#dw = 1/m*X*dZ.T\n",
    "\n",
    "# w = w - alpha*dw\n",
    "# b = b - alpha*db\n",
    "\n"
   ]
  },
  {
   "cell_type": "code",
   "execution_count": 25,
   "metadata": {},
   "outputs": [
    {
     "name": "stdout",
     "output_type": "stream",
     "text": [
      "[[ 56   0  44  68]\n",
      " [ 12 104  52   8]\n",
      " [ 18 135  99   9]]\n",
      "[ 86 239 195  85]\n",
      "[[ 65.11627907   0.          22.56410256  80.        ]\n",
      " [ 13.95348837  43.51464435  26.66666667   9.41176471]\n",
      " [ 20.93023256  56.48535565  50.76923077  10.58823529]]\n"
     ]
    }
   ],
   "source": [
    "#broadcasting\n",
    "\n",
    "A = np.array([[56, 0, 44, 68],\n",
    "              [12, 104, 52, 8],\n",
    "              [18, 135, 99, 9]])\n",
    "print(A)\n",
    "cal = A.sum(axis = 0) #vertical sum\n",
    "print(cal)\n",
    "\n",
    "percentage = 100*A/(cal.reshape(1,4)) #(3,4) / (1,4)\n",
    "print(percentage)"
   ]
  },
  {
   "cell_type": "code",
   "execution_count": 26,
   "metadata": {},
   "outputs": [
    {
     "name": "stdout",
     "output_type": "stream",
     "text": [
      "[ 1.61461881 -1.29841736  0.9954571   0.19275036  1.0875973 ]\n"
     ]
    }
   ],
   "source": [
    "#python-numpy\n",
    "\n",
    "a = np.random.randn(5)\n",
    "print(a)"
   ]
  },
  {
   "cell_type": "code",
   "execution_count": 27,
   "metadata": {},
   "outputs": [
    {
     "name": "stdout",
     "output_type": "stream",
     "text": [
      "(5,)\n"
     ]
    }
   ],
   "source": [
    "print(a.shape) #rank 1 array - don't use these data structures"
   ]
  },
  {
   "cell_type": "code",
   "execution_count": 28,
   "metadata": {},
   "outputs": [
    {
     "name": "stdout",
     "output_type": "stream",
     "text": [
      "[ 1.61461881 -1.29841736  0.9954571   0.19275036  1.0875973 ]\n"
     ]
    }
   ],
   "source": [
    "print(a.T)"
   ]
  },
  {
   "cell_type": "code",
   "execution_count": 29,
   "metadata": {},
   "outputs": [
    {
     "name": "stdout",
     "output_type": "stream",
     "text": [
      "6.50383694594\n"
     ]
    }
   ],
   "source": [
    "print(np.dot(a,a.T))"
   ]
  },
  {
   "cell_type": "code",
   "execution_count": 30,
   "metadata": {},
   "outputs": [
    {
     "name": "stdout",
     "output_type": "stream",
     "text": [
      "[[-1.86656036]\n",
      " [ 0.17898634]\n",
      " [-1.51861372]\n",
      " [-0.10453277]\n",
      " [ 0.45712754]]\n"
     ]
    }
   ],
   "source": [
    "a = np.random.randn(5,1) #column vector\n",
    "print(a)"
   ]
  },
  {
   "cell_type": "code",
   "execution_count": 31,
   "metadata": {},
   "outputs": [
    {
     "name": "stdout",
     "output_type": "stream",
     "text": [
      "[[-1.86656036  0.17898634 -1.51861372 -0.10453277  0.45712754]]\n"
     ]
    }
   ],
   "source": [
    "print(a.T) #row vector"
   ]
  },
  {
   "cell_type": "code",
   "execution_count": 32,
   "metadata": {},
   "outputs": [
    {
     "name": "stdout",
     "output_type": "stream",
     "text": [
      "[[ 3.48404758 -0.33408881  2.83458418  0.19511672 -0.85325615]\n",
      " [-0.33408881  0.03203611 -0.27181112 -0.01870994  0.08181959]\n",
      " [ 2.83458418 -0.27181112  2.30618764  0.15874489 -0.69420015]\n",
      " [ 0.19511672 -0.01870994  0.15874489  0.0109271  -0.04778481]\n",
      " [-0.85325615  0.08181959 -0.69420015 -0.04778481  0.20896559]]\n"
     ]
    }
   ],
   "source": [
    "print(np.dot(a,a.T)) #matrix!"
   ]
  },
  {
   "cell_type": "code",
   "execution_count": 33,
   "metadata": {
    "collapsed": true
   },
   "outputs": [],
   "source": [
    "#assertion statements\n",
    "\n",
    "assert(a.shape == (5,1))\n",
    "a = a.reshape((5,1))"
   ]
  },
  {
   "cell_type": "code",
   "execution_count": null,
   "metadata": {
    "collapsed": true
   },
   "outputs": [],
   "source": [
    "#n,1 or 1,n matrices, double check dimensions, use reshape"
   ]
  }
 ],
 "metadata": {
  "kernelspec": {
   "display_name": "Python 3",
   "language": "python",
   "name": "python3"
  },
  "language_info": {
   "codemirror_mode": {
    "name": "ipython",
    "version": 3
   },
   "file_extension": ".py",
   "mimetype": "text/x-python",
   "name": "python",
   "nbconvert_exporter": "python",
   "pygments_lexer": "ipython3",
   "version": "3.6.3"
  }
 },
 "nbformat": 4,
 "nbformat_minor": 2
}
